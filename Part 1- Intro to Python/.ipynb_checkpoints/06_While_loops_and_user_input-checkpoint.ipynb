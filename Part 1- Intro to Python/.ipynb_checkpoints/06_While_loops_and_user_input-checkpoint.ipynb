{
 "cells": [
  {
   "cell_type": "markdown",
   "metadata": {
    "slideshow": {
     "slide_type": "slide"
    }
   },
   "source": [
    "Loops, Iteration Schemas and Input\n",
    "==="
   ]
  },
  {
   "cell_type": "markdown",
   "metadata": {
    "slideshow": {
     "slide_type": "fragment"
    }
   },
   "source": [
    "While loops are really useful because they let your program run until a user decides to quit the program. They set up an infinite loop that runs until the user does something to end the loop. This section also introduces the first way to get input from your program's users."
   ]
  },
  {
   "cell_type": "markdown",
   "metadata": {
    "slideshow": {
     "slide_type": "skip"
    }
   },
   "source": [
    "<a name=\"top\"></a>Contents\n",
    "===\n",
    "- [What is a `while` loop?](#what)\n",
    "    - [General syntax](#general_syntax)\n",
    "    - [Example](#example)\n",
    "    - [Exercises](#exercises_while)\n",
    "- [Accepting user input](#input)\n",
    "    - [General syntax](#general_user_input)\n",
    "    - [Example](#example_user_input)\n",
    "    - [Exercises](#exercises_input)\n",
    "- [Using while loops to keep your programs running](#keep_running)\n",
    "    - [Exercises](#exercises_running_input)\n",
    "- [Using while loops to make menus](#menus)\n",
    "- [Using while loops to process items in a list](#process_list)\n",
    "- [Accidental Infinite loops](#infinite_loops)\n",
    "    - [Exercises](#exercises_infinite_loops)\n",
    "- [Overall Challenges](#overall_challenges)"
   ]
  },
  {
   "cell_type": "markdown",
   "metadata": {
    "slideshow": {
     "slide_type": "slide"
    }
   },
   "source": [
    "## The FOR (iteration) loop"
   ]
  },
  {
   "cell_type": "markdown",
   "metadata": {
    "slideshow": {
     "slide_type": "subslide"
    }
   },
   "source": [
    "The `for` loop statement is the most widely used iteration mechanisms in Python.\n",
    "\n",
    "* Almost every structure in Python can be iterated (*element by element*) by a `for` loop\n",
    "    - a list, a tuple, a dictionary, $\\ldots$ (more details will follows)\n",
    "\n",
    "* In Python, also `while` loops are permitted, but `for` is the one you would see (and use) most of the time!"
   ]
  },
  {
   "cell_type": "markdown",
   "metadata": {
    "slideshow": {
     "slide_type": "slide"
    }
   },
   "source": [
    "<a name='what'></a>What is a while loop?\n",
    "==="
   ]
  },
  {
   "cell_type": "markdown",
   "metadata": {
    "slideshow": {
     "slide_type": "fragment"
    }
   },
   "source": [
    "A while loop tests an initial condition. If that condition is true, the loop starts executing. Every time the loop finishes, the condition is reevaluated. As long as the condition remains true, the loop keeps executing. As soon as the condition becomes false, the loop stops executing."
   ]
  },
  {
   "cell_type": "markdown",
   "metadata": {
    "slideshow": {
     "slide_type": "subslide"
    }
   },
   "source": [
    "<a name='general_syntax'></a>General syntax\n",
    "---"
   ]
  },
  {
   "cell_type": "code",
   "execution_count": null,
   "metadata": {
    "collapsed": true,
    "jupyter": {
     "outputs_hidden": true
    }
   },
   "outputs": [],
   "source": [
    "# Set an initial condition.\n",
    "game_active = True\n",
    "\n",
    "# Set up the while loop.\n",
    "while game_active:\n",
    "    # Run the game.\n",
    "    # At some point, the game ends and game_active will be set to False.\n",
    "    #   When that happens, the loop will stop executing.\n",
    "    \n",
    "# Do anything else you want done after the loop runs."
   ]
  },
  {
   "cell_type": "markdown",
   "metadata": {
    "slideshow": {
     "slide_type": "subslide"
    }
   },
   "source": [
    "- Every while loop needs an initial condition that starts out true.\n",
    "- The `while` statement includes a condition to test.\n",
    "- All of the code in the loop will run as long as the condition remains true.\n",
    "- As soon as something in the loop changes the condition such that the test no longer passes, the loop stops executing.\n",
    "- Any code that is defined after the loop will run at this point."
   ]
  },
  {
   "cell_type": "markdown",
   "metadata": {
    "slideshow": {
     "slide_type": "subslide"
    }
   },
   "source": [
    "<a name='example'></a>Example\n",
    "---\n",
    "Here is a simple example, showing how a game will stay active as long as the player has enough power."
   ]
  },
  {
   "cell_type": "code",
   "execution_count": 5,
   "metadata": {},
   "outputs": [
    {
     "name": "stdout",
     "output_type": "stream",
     "text": [
      "You are still playing, because your power is 20.\n",
      "You are still playing, because your power is 19.\n",
      "You are still playing, because your power is 18.\n",
      "You are still playing, because your power is 17.\n",
      "You are still playing, because your power is 16.\n",
      "You are still playing, because your power is 15.\n",
      "You are still playing, because your power is 14.\n",
      "You are still playing, because your power is 13.\n",
      "You are still playing, because your power is 12.\n",
      "You are still playing, because your power is 11.\n",
      "You are still playing, because your power is 10.\n",
      "You are still playing, because your power is 9.\n",
      "You are still playing, because your power is 8.\n",
      "You are still playing, because your power is 7.\n",
      "You are still playing, because your power is 6.\n",
      "You are still playing, because your power is 5.\n",
      "You are still playing, because your power is 4.\n",
      "You are still playing, because your power is 3.\n",
      "You are still playing, because your power is 2.\n",
      "You are still playing, because your power is 1.\n",
      "\n",
      "Oh no, your power dropped to 0! Game Over.\n"
     ]
    }
   ],
   "source": [
    "# The player's power starts out at 5.\n",
    "power = 20\n",
    "\n",
    "# The player is allowed to keep playing as long as their power is over 0.\n",
    "while power > 0:\n",
    "    print(\"You are still playing, because your power is %d.\" % power)\n",
    "    # Your game code would go here, which includes challenges that make it\n",
    "    #   possible to lose power.\n",
    "    # We can represent that by just taking away from the power.\n",
    "    power -=  1\n",
    "    \n",
    "print(\"\\nOh no, your power dropped to 0! Game Over.\")"
   ]
  },
  {
   "cell_type": "markdown",
   "metadata": {
    "slideshow": {
     "slide_type": "skip"
    }
   },
   "source": [
    "[top](#top)"
   ]
  },
  {
   "cell_type": "markdown",
   "metadata": {
    "slideshow": {
     "slide_type": "skip"
    }
   },
   "source": [
    "<a name='exercises_while'></a>Exercises\n",
    "---\n",
    "#### Ex 5.1: Growing Strength\n",
    "- Make a variable called strength, and set its initial value to 5.\n",
    "- Print a message reporting the player's strength.\n",
    "- Set up a while loop that runs until the player's strength increases to a value such as 10.\n",
    "- Inside the while loop, print a message that reports the player's current strength.\n",
    "- Inside the while loop, write a statement that increases the player's strength.\n",
    "- Outside the while loop, print a message reporting that the player has grown too strong, and that they have moved up to a new level of the game.\n",
    "- Bonus: Play around with different cutoff levels for the value of *strength*, and play around with different ways to increase the strength value within the while loop."
   ]
  },
  {
   "cell_type": "code",
   "execution_count": 13,
   "metadata": {
    "slideshow": {
     "slide_type": "skip"
    }
   },
   "outputs": [
    {
     "name": "stdout",
     "output_type": "stream",
     "text": [
      "5\n",
      "You strength has increased 1 point to  6\n",
      "6\n",
      "You strength has increased 1 point to  7\n",
      "7\n",
      "You strength has increased 1 point to  8\n",
      "8\n",
      "You strength has increased 1 point to  9\n",
      "9\n",
      "You strength has increased 1 point to  10\n",
      "10\n",
      "You strength has increased 1 point to  11\n",
      "Level Up!\n"
     ]
    }
   ],
   "source": [
    "# Ex 5.1 : Growing Strength\n",
    "strength = 5\n",
    "\n",
    "while strength <= 10:\n",
    "    print(strength)\n",
    "    strength += 1\n",
    "    print(\"You strength has increased 1 point to \", strength)\n",
    "print(\"Level Up!\")    \n",
    "# put your code here"
   ]
  },
  {
   "cell_type": "markdown",
   "metadata": {
    "slideshow": {
     "slide_type": "skip"
    }
   },
   "source": [
    "[top](#top)"
   ]
  },
  {
   "cell_type": "markdown",
   "metadata": {
    "slideshow": {
     "slide_type": "slide"
    }
   },
   "source": [
    "<a name='input'></a>Accepting user input\n",
    "==="
   ]
  },
  {
   "cell_type": "markdown",
   "metadata": {
    "slideshow": {
     "slide_type": "fragment"
    }
   },
   "source": [
    "Almost all interesting programs accept input from the user at some point. You can start accepting user input in your programs by using the `input()` function. The input function displays a messaget to the user describing the kind of input you are looking for, and then it waits for the user to enter a value. When the user presses Enter, the value is passed to your variable."
   ]
  },
  {
   "cell_type": "markdown",
   "metadata": {
    "slideshow": {
     "slide_type": "subslide"
    }
   },
   "source": [
    "<a name='general_user_input'></a>General syntax\n",
    "---\n",
    "The general case for accepting input looks something like this:"
   ]
  },
  {
   "cell_type": "code",
   "execution_count": 6,
   "metadata": {
    "slideshow": {
     "slide_type": "fragment"
    }
   },
   "outputs": [
    {
     "name": "stdout",
     "output_type": "stream",
     "text": [
      "Please enter a value: Master of Python\n"
     ]
    }
   ],
   "source": [
    "# Get some input from the user.\n",
    "variable = input('Please enter a value: ')\n",
    "# Do something with the value that was entered."
   ]
  },
  {
   "cell_type": "markdown",
   "metadata": {
    "slideshow": {
     "slide_type": "fragment"
    }
   },
   "source": [
    "You need a variable that will hold whatever value the user enters, and you need a message that will be displayed to the user."
   ]
  },
  {
   "cell_type": "markdown",
   "metadata": {
    "slideshow": {
     "slide_type": "subslide"
    }
   },
   "source": [
    "<a name='example_user_input'></a>Example\n",
    "---\n",
    "In the following example, we have a list of names. We ask the user for a name, and we add it to our list of names."
   ]
  },
  {
   "cell_type": "code",
   "execution_count": 7,
   "metadata": {},
   "outputs": [
    {
     "name": "stdout",
     "output_type": "stream",
     "text": [
      "Please tell me someone I should know: jessica\n",
      "['guido', 'tim', 'jesse', 'jessica']\n"
     ]
    }
   ],
   "source": [
    "# Start with a list containing several names.\n",
    "names = ['guido', 'tim', 'jesse']\n",
    "\n",
    "# Ask the user for a name.\n",
    "new_name = input(\"Please tell me someone I should know: \")\n",
    "\n",
    "# Add the new name to our list.\n",
    "names.append(new_name)\n",
    "\n",
    "# Show that the name has been added to the list.\n",
    "print(names)"
   ]
  },
  {
   "cell_type": "markdown",
   "metadata": {
    "slideshow": {
     "slide_type": "skip"
    }
   },
   "source": [
    "<a name='exercises_input'></a>Exercises\n",
    "---\n",
    "#### Ex 5.2: Game Preferences\n",
    "- Make a list that includes 3 or 4 games that you like to play.\n",
    "- Print a statement that tells the user what games you like.\n",
    "- Ask the user to tell you a game they like, and store the game in a variable such as `new_game`.\n",
    "- Add the user's game to your list.\n",
    "- Print a new statement that lists all of the games that we like to play (*we* means you and your user)."
   ]
  },
  {
   "cell_type": "code",
   "execution_count": 3,
   "metadata": {
    "slideshow": {
     "slide_type": "skip"
    }
   },
   "outputs": [],
   "source": [
    "# Ex 5.2 : Game Preferences\n",
    "\n",
    "X=A"
   ]
  },
  {
   "cell_type": "markdown",
   "metadata": {
    "slideshow": {
     "slide_type": "skip"
    }
   },
   "source": [
    "[top](#top)"
   ]
  },
  {
   "cell_type": "markdown",
   "metadata": {
    "slideshow": {
     "slide_type": "slide"
    }
   },
   "source": [
    "<a name='keep_running'></a>Using while loops to keep your programs running\n",
    "==="
   ]
  },
  {
   "cell_type": "markdown",
   "metadata": {
    "slideshow": {
     "slide_type": "-"
    }
   },
   "source": [
    "Most of the programs we use every day run until we tell them to quit, and in the background this is often done with a while loop."
   ]
  },
  {
   "cell_type": "markdown",
   "metadata": {
    "slideshow": {
     "slide_type": "subslide"
    }
   },
   "source": [
    "Here is an example of how to let the user enter an arbitrary number of names."
   ]
  },
  {
   "cell_type": "code",
   "execution_count": 9,
   "metadata": {
    "slideshow": {
     "slide_type": "-"
    }
   },
   "outputs": [
    {
     "name": "stdout",
     "output_type": "stream",
     "text": [
      "Please tell me someone I should know, or enter 'quit': guido\n",
      "Please tell me someone I should know, or enter 'quit': jesse\n",
      "Please tell me someone I should know, or enter 'quit': jessica\n",
      "Please tell me someone I should know, or enter 'quit': tim\n",
      "Please tell me someone I should know, or enter 'quit': quit\n",
      "['guido', 'jesse', 'jessica', 'tim', 'quit']\n"
     ]
    }
   ],
   "source": [
    "# Start with an empty list. You can 'seed' the list with\n",
    "#  some predefined values if you like.\n",
    "names = []\n",
    "\n",
    "# Set new_name to something other than 'quit'.\n",
    "new_name = ''\n",
    "\n",
    "# Start a loop that will run until the user enters 'quit'.\n",
    "while new_name != 'quit':\n",
    "    # Ask the user for a name.\n",
    "    new_name = input(\"Please tell me someone I should know, or enter 'quit': \")\n",
    "\n",
    "    # Add the new name to our list.\n",
    "    names.append(new_name)\n",
    "\n",
    "# Show that the name has been added to the list.\n",
    "print(names)"
   ]
  },
  {
   "cell_type": "markdown",
   "metadata": {
    "slideshow": {
     "slide_type": "subslide"
    }
   },
   "source": [
    "That worked, except we ended up with the name 'quit' in our list. We can use a simple `if` test to eliminate this bug:"
   ]
  },
  {
   "cell_type": "code",
   "execution_count": 10,
   "metadata": {
    "slideshow": {
     "slide_type": "fragment"
    }
   },
   "outputs": [
    {
     "name": "stdout",
     "output_type": "stream",
     "text": [
      "Please tell me someone I should know, or enter 'quit': guido\n",
      "Please tell me someone I should know, or enter 'quit': jesse\n",
      "Please tell me someone I should know, or enter 'quit': jessica\n",
      "Please tell me someone I should know, or enter 'quit': tim\n",
      "Please tell me someone I should know, or enter 'quit': quit\n",
      "['guido', 'jesse', 'jessica', 'tim']\n"
     ]
    }
   ],
   "source": [
    "# Start with an empty list. You can 'seed' the list with\n",
    "#  some predefined values if you like.\n",
    "names = []\n",
    "\n",
    "# Set new_name to something other than 'quit'.\n",
    "new_name = ''\n",
    "\n",
    "# Start a loop that will run until the user enters 'quit'.\n",
    "while new_name != 'quit':\n",
    "    # Ask the user for a name.\n",
    "    new_name = input(\"Please tell me someone I should know, or enter 'quit': \")\n",
    "\n",
    "    # Add the new name to our list.\n",
    "    if new_name != 'quit':\n",
    "        names.append(new_name)\n",
    "\n",
    "# Show that the name has been added to the list.\n",
    "print(names)"
   ]
  },
  {
   "cell_type": "markdown",
   "metadata": {
    "slideshow": {
     "slide_type": "fragment"
    }
   },
   "source": [
    "This is pretty cool! We now have a way to accept input from users while our programs run, and we have a way to let our programs  run until our users are finished working."
   ]
  },
  {
   "cell_type": "markdown",
   "metadata": {
    "slideshow": {
     "slide_type": "skip"
    }
   },
   "source": [
    "<a name='exercises_running_input'></a>Exercises\n",
    "---\n",
    "#### Ex 5.3: Many Games\n",
    "- Modify *[Game Preferences](#exercises_input)* so your user can add as many games as they like."
   ]
  },
  {
   "cell_type": "code",
   "execution_count": null,
   "metadata": {
    "collapsed": true,
    "jupyter": {
     "outputs_hidden": true
    },
    "slideshow": {
     "slide_type": "skip"
    }
   },
   "outputs": [],
   "source": [
    "# Ex 5.3 : Many Games\n",
    "\n",
    "# put your code here"
   ]
  },
  {
   "cell_type": "markdown",
   "metadata": {
    "slideshow": {
     "slide_type": "skip"
    }
   },
   "source": [
    "[top](#top)"
   ]
  },
  {
   "cell_type": "markdown",
   "metadata": {
    "slideshow": {
     "slide_type": "slide"
    }
   },
   "source": [
    "<a name='menus'></a>Using while loops to make menus\n",
    "===\n",
    "You now have enough Python under your belt to offer users a set of choices, and then respond to those choices until they choose to quit."
   ]
  },
  {
   "cell_type": "markdown",
   "metadata": {
    "slideshow": {
     "slide_type": "fragment"
    }
   },
   "source": [
    "Let's look at a simple example, and then analyze the code:"
   ]
  },
  {
   "cell_type": "code",
   "execution_count": 33,
   "metadata": {
    "slideshow": {
     "slide_type": "subslide"
    }
   },
   "outputs": [
    {
     "name": "stdout",
     "output_type": "stream",
     "text": [
      "\n",
      "Welcome to the nature center. What would you like to do?\n",
      "\n",
      "[1] Enter 1 to take a bicycle ride.\n",
      "[2] Enter 2 to go for a run.\n",
      "[3] Enter 3 to climb a mountain.\n",
      "[q] Enter q to quit.\n",
      "\n",
      "What would you like to do? 1\n",
      "\n",
      "Here's a bicycle. Have fun!\n",
      "\n",
      "\n",
      "[1] Enter 1 to take a bicycle ride.\n",
      "[2] Enter 2 to go for a run.\n",
      "[3] Enter 3 to climb a mountain.\n",
      "[q] Enter q to quit.\n",
      "\n",
      "What would you like to do? 3\n",
      "\n",
      "Here's a map. Can you leave a trip plan for us?\n",
      "\n",
      "\n",
      "[1] Enter 1 to take a bicycle ride.\n",
      "[2] Enter 2 to go for a run.\n",
      "[3] Enter 3 to climb a mountain.\n",
      "[q] Enter q to quit.\n",
      "\n",
      "What would you like to do? q\n",
      "\n",
      "Thanks for playing. See you later.\n",
      "\n",
      "Thanks again, bye now.\n"
     ]
    }
   ],
   "source": [
    "# Give the user some context.\n",
    "print(\"\\nWelcome to the nature center. What would you like to do?\")\n",
    "\n",
    "# Set an initial value for choice other than the value for 'quit'.\n",
    "choice = ''\n",
    "\n",
    "# Start a loop that runs until the user enters the value for 'quit'.\n",
    "while choice != 'q':\n",
    "    # Give all the choices in a series of print statements.\n",
    "    print(\"\\n[1] Enter 1 to take a bicycle ride.\")\n",
    "    print(\"[2] Enter 2 to go for a run.\")\n",
    "    print(\"[3] Enter 3 to climb a mountain.\")\n",
    "    print(\"[q] Enter q to quit.\")\n",
    "    \n",
    "    # Ask for the user's choice.\n",
    "    choice = input(\"\\nWhat would you like to do? \")\n",
    "    \n",
    "    # Respond to the user's choice.\n",
    "    if choice == '1':\n",
    "        print(\"\\nHere's a bicycle. Have fun!\\n\")\n",
    "    elif choice == '2':\n",
    "        print(\"\\nHere are some running shoes. Run fast!\\n\")\n",
    "    elif choice == '3':\n",
    "        print(\"\\nHere's a map. Can you leave a trip plan for us?\\n\")\n",
    "    elif choice == 'q':\n",
    "        print(\"\\nThanks for playing. See you later.\\n\")\n",
    "    else:\n",
    "        print(\"\\nI don't understand that choice, please try again.\\n\")\n",
    "        \n",
    "# Print a message that we are all finished.\n",
    "print(\"Thanks again, bye now.\")"
   ]
  },
  {
   "cell_type": "markdown",
   "metadata": {
    "slideshow": {
     "slide_type": "subslide"
    }
   },
   "source": [
    "Our programs are getting rich enough now, that we could do many different things with them. Let's clean this up in one really useful way. There are three main choices here, so let's define a function for each of those items. This way, our menu code remains really simple even as we add more complicated code to the actions of riding a bicycle, going for a run, or climbing a mountain."
   ]
  },
  {
   "cell_type": "code",
   "execution_count": 34,
   "metadata": {
    "slideshow": {
     "slide_type": "subslide"
    }
   },
   "outputs": [
    {
     "name": "stdout",
     "output_type": "stream",
     "text": [
      "\n",
      "Welcome to the nature center. What would you like to do?\n",
      "\n",
      "[1] Enter 1 to take a bicycle ride.\n",
      "[2] Enter 2 to go for a run.\n",
      "[3] Enter 3 to climb a mountain.\n",
      "[q] Enter q to quit.\n",
      "\n",
      "What would you like to do? 1\n",
      "\n",
      "Here's a bicycle. Have fun!\n",
      "\n",
      "\n",
      "[1] Enter 1 to take a bicycle ride.\n",
      "[2] Enter 2 to go for a run.\n",
      "[3] Enter 3 to climb a mountain.\n",
      "[q] Enter q to quit.\n",
      "\n",
      "What would you like to do? 3\n",
      "\n",
      "Here's a map. Can you leave a trip plan for us?\n",
      "\n",
      "\n",
      "[1] Enter 1 to take a bicycle ride.\n",
      "[2] Enter 2 to go for a run.\n",
      "[3] Enter 3 to climb a mountain.\n",
      "[q] Enter q to quit.\n",
      "\n",
      "What would you like to do? q\n",
      "\n",
      "Thanks for playing. See you later.\n",
      "\n",
      "Thanks again, bye now.\n"
     ]
    }
   ],
   "source": [
    "# Define the actions for each choice we want to offer.\n",
    "def ride_bicycle():\n",
    "    print(\"\\nHere's a bicycle. Have fun!\\n\")\n",
    "    \n",
    "def go_running():\n",
    "    print(\"\\nHere are some running shoes. Run fast!\\n\")\n",
    "    \n",
    "def climb_mountain():\n",
    "    print(\"\\nHere's a map. Can you leave a trip plan for us?\\n\")\n",
    "\n",
    "# Give the user some context.\n",
    "print(\"\\nWelcome to the nature center. What would you like to do?\")\n",
    "\n",
    "# Set an initial value for choice other than the value for 'quit'.\n",
    "choice = ''\n",
    "\n",
    "# Start a loop that runs until the user enters the value for 'quit'.\n",
    "while choice != 'q':\n",
    "    # Give all the choices in a series of print statements.\n",
    "    print(\"\\n[1] Enter 1 to take a bicycle ride.\")\n",
    "    print(\"[2] Enter 2 to go for a run.\")\n",
    "    print(\"[3] Enter 3 to climb a mountain.\")\n",
    "    print(\"[q] Enter q to quit.\")\n",
    "    \n",
    "    # Ask for the user's choice.\n",
    "    choice = input(\"\\nWhat would you like to do? \")\n",
    "    \n",
    "    # Respond to the user's choice.\n",
    "    if choice == '1':\n",
    "        ride_bicycle()\n",
    "    elif choice == '2':\n",
    "        go_running()\n",
    "    elif choice == '3':\n",
    "        climb_mountain()\n",
    "    elif choice == 'q':\n",
    "        print(\"\\nThanks for playing. See you later.\\n\")\n",
    "    else:\n",
    "        print(\"\\nI don't understand that choice, please try again.\\n\")\n",
    "        \n",
    "# Print a message that we are all finished.\n",
    "print(\"Thanks again, bye now.\")"
   ]
  },
  {
   "cell_type": "markdown",
   "metadata": {
    "slideshow": {
     "slide_type": "subslide"
    }
   },
   "source": [
    "This is much cleaner code, and it gives us space to separate the details of taking an action from the act of choosing that action."
   ]
  },
  {
   "cell_type": "markdown",
   "metadata": {
    "slideshow": {
     "slide_type": "skip"
    }
   },
   "source": [
    "[top](#top)"
   ]
  },
  {
   "cell_type": "markdown",
   "metadata": {
    "slideshow": {
     "slide_type": "slide"
    }
   },
   "source": [
    "<a name='processing_list'></a>Using while loops to process items in a list\n",
    "===\n",
    "In the section on Lists, you saw that we can `pop()` items from a list. You can use a while list to pop items one at a time from one list, and work with them in whatever way you need. "
   ]
  },
  {
   "cell_type": "markdown",
   "metadata": {
    "slideshow": {
     "slide_type": "fragment"
    }
   },
   "source": [
    "Let's look at an example where we process a list of unconfirmed users."
   ]
  },
  {
   "cell_type": "code",
   "execution_count": 21,
   "metadata": {
    "slideshow": {
     "slide_type": "subslide"
    }
   },
   "outputs": [
    {
     "name": "stdout",
     "output_type": "stream",
     "text": [
      "Confirming user Daria...confirmed!\n",
      "Confirming user Clarence...confirmed!\n",
      "Confirming user Billy...confirmed!\n",
      "Confirming user Ada...confirmed!\n",
      "\n",
      "Unconfirmed users:\n",
      "\n",
      "Confirmed users:\n",
      "- Daria\n",
      "- Clarence\n",
      "- Billy\n",
      "- Ada\n"
     ]
    }
   ],
   "source": [
    "# Start with a list of unconfirmed users, and an empty list of confirmed users.\n",
    "unconfirmed_users = ['ada', 'billy', 'clarence', 'daria']\n",
    "confirmed_users = []\n",
    "\n",
    "# Work through the list, and confirm each user.\n",
    "while len(unconfirmed_users) > 0:\n",
    "    \n",
    "    # Get the latest unconfirmed user, and process them.\n",
    "    current_user = unconfirmed_users.pop()\n",
    "    print(\"Confirming user %s...confirmed!\" % current_user.title())\n",
    "    \n",
    "    # Move the current user to the list of confirmed users.\n",
    "    confirmed_users.append(current_user)\n",
    "    \n",
    "# Prove that we have finished confirming all users.\n",
    "print(\"\\nUnconfirmed users:\")\n",
    "for user in unconfirmed_users:\n",
    "    print('- ' + user.title())\n",
    "    \n",
    "print(\"\\nConfirmed users:\")\n",
    "for user in confirmed_users:\n",
    "    print('- ' + user.title())"
   ]
  },
  {
   "cell_type": "markdown",
   "metadata": {
    "slideshow": {
     "slide_type": "subslide"
    }
   },
   "source": [
    "This works, but let's make one small improvement. The current program always works with the most recently added user. If users are joining faster than we can confirm them, we will leave some users behind. If we want to work on a 'first come, first served' model, or a 'first in first out' model, we can pop the first item in the list each time."
   ]
  },
  {
   "cell_type": "code",
   "execution_count": 22,
   "metadata": {
    "slideshow": {
     "slide_type": "subslide"
    }
   },
   "outputs": [
    {
     "name": "stdout",
     "output_type": "stream",
     "text": [
      "Confirming user Ada...confirmed!\n",
      "Confirming user Billy...confirmed!\n",
      "Confirming user Clarence...confirmed!\n",
      "Confirming user Daria...confirmed!\n",
      "\n",
      "Unconfirmed users:\n",
      "\n",
      "Confirmed users:\n",
      "- Ada\n",
      "- Billy\n",
      "- Clarence\n",
      "- Daria\n"
     ]
    }
   ],
   "source": [
    "# Start with a list of unconfirmed users, and an empty list of confirmed users.\n",
    "unconfirmed_users = ['ada', 'billy', 'clarence', 'daria']\n",
    "confirmed_users = []\n",
    "\n",
    "# Work through the list, and confirm each user.\n",
    "while len(unconfirmed_users) > 0:\n",
    "    \n",
    "    # Get the latest unconfirmed user, and process them.\n",
    "    current_user = unconfirmed_users.pop(0)\n",
    "    print(\"Confirming user %s...confirmed!\" % current_user.title())\n",
    "    \n",
    "    # Move the current user to the list of confirmed users.\n",
    "    confirmed_users.append(current_user)\n",
    "    \n",
    "# Prove that we have finished confirming all users.\n",
    "print(\"\\nUnconfirmed users:\")\n",
    "for user in unconfirmed_users:\n",
    "    print('- ' + user.title())\n",
    "    \n",
    "print(\"\\nConfirmed users:\")\n",
    "for user in confirmed_users:\n",
    "    print('- ' + user.title())"
   ]
  },
  {
   "cell_type": "markdown",
   "metadata": {
    "slideshow": {
     "slide_type": "subslide"
    }
   },
   "source": [
    "This is a little nicer, because we are sure to get to everyone, even when our program is running under a heavy load. We also preserve the order of people as they join our project. Notice that this all came about by adding *one character* to our program!"
   ]
  },
  {
   "cell_type": "markdown",
   "metadata": {
    "slideshow": {
     "slide_type": "skip"
    }
   },
   "source": [
    "[top](#top)"
   ]
  },
  {
   "cell_type": "markdown",
   "metadata": {
    "slideshow": {
     "slide_type": "slide"
    }
   },
   "source": [
    "<a name='infinite_loops'></a>Accidental Infinite loops\n",
    "===\n",
    "Sometimes we want a while loop to run until a defined action is completed, such as emptying out a list. Sometimes we want a loop to run for an unknown period of time, for example when we are allowing users to give as much input as they want. What we rarely want, however, is a true 'runaway' infinite loop."
   ]
  },
  {
   "cell_type": "markdown",
   "metadata": {
    "slideshow": {
     "slide_type": "subslide"
    }
   },
   "source": [
    "Take a look at the following example. Can you pick out why this loop will never stop?"
   ]
  },
  {
   "cell_type": "code",
   "execution_count": null,
   "metadata": {
    "collapsed": true,
    "jupyter": {
     "outputs_hidden": true
    },
    "slideshow": {
     "slide_type": "fragment"
    }
   },
   "outputs": [],
   "source": [
    "current_number = 1\n",
    "\n",
    "# Count up to 5, printing the number each time.\n",
    "while current_number <= 5:\n",
    "    print(current_number)"
   ]
  },
  {
   "cell_type": "code",
   "execution_count": null,
   "metadata": {
    "collapsed": true,
    "jupyter": {
     "outputs_hidden": true
    },
    "slideshow": {
     "slide_type": "fragment"
    }
   },
   "outputs": [],
   "source": [
    "1\n",
    "1\n",
    "1\n",
    "1\n",
    "1\n",
    "..."
   ]
  },
  {
   "cell_type": "markdown",
   "metadata": {
    "slideshow": {
     "slide_type": "subslide"
    }
   },
   "source": [
    "I faked that output, because if I ran it the output would fill up the browser. You can try to run it on your computer, as long as you know how to interrupt runaway processes:\n",
    "\n",
    "- On most systems, Ctrl-C will interrupt the currently running program.\n",
    "- If you are using Geany, your output is displayed in a popup terminal window. You can either press Ctrl-C, or you can use your pointer to close the terminal window."
   ]
  },
  {
   "cell_type": "markdown",
   "metadata": {
    "slideshow": {
     "slide_type": "subslide"
    }
   },
   "source": [
    "The loop runs forever, because there is no way for the test condition to ever fail. The programmer probably meant to add a line that increments current_number by 1 each time through the loop:"
   ]
  },
  {
   "cell_type": "code",
   "execution_count": 23,
   "metadata": {
    "slideshow": {
     "slide_type": "fragment"
    }
   },
   "outputs": [
    {
     "name": "stdout",
     "output_type": "stream",
     "text": [
      "1\n",
      "2\n",
      "3\n",
      "4\n",
      "5\n"
     ]
    }
   ],
   "source": [
    "current_number = 1\n",
    "\n",
    "# Count up to 5, printing the number each time.\n",
    "while current_number <= 5:\n",
    "    print(current_number)\n",
    "    current_number = current_number + 1"
   ]
  },
  {
   "cell_type": "markdown",
   "metadata": {
    "slideshow": {
     "slide_type": "subslide"
    }
   },
   "source": [
    "You will certainly make some loops run infintely at some point. When you do, just interrupt the loop and figure out the logical error you made.\n",
    "\n",
    "Infinite loops will not be a real problem until you have users who run your programs on their machines. You won't want infinite loops then, because your users would have to shut down your program, and they would consider it buggy and unreliable. Learn to spot infinite loops, and make sure they don't pop up in your polished programs later on.\n",
    "\n",
    "Here is one more example of an accidental infinite loop:"
   ]
  },
  {
   "cell_type": "code",
   "execution_count": null,
   "metadata": {
    "collapsed": true,
    "jupyter": {
     "outputs_hidden": true
    },
    "slideshow": {
     "slide_type": "fragment"
    }
   },
   "outputs": [],
   "source": [
    "current_number = 1\n",
    "\n",
    "# Count up to 5, printing the number each time.\n",
    "while current_number <= 5:\n",
    "    print(current_number)\n",
    "    current_number = current_number - 1"
   ]
  },
  {
   "cell_type": "code",
   "execution_count": null,
   "metadata": {
    "collapsed": true,
    "jupyter": {
     "outputs_hidden": true
    },
    "slideshow": {
     "slide_type": "subslide"
    }
   },
   "outputs": [],
   "source": [
    "1\n",
    "0\n",
    "-1\n",
    "-2\n",
    "-3\n",
    "..."
   ]
  },
  {
   "cell_type": "markdown",
   "metadata": {
    "slideshow": {
     "slide_type": "fragment"
    }
   },
   "source": [
    "In this example, we accidentally started counting down. The value of `current_number` will always be less than 5, so the loop will run forever."
   ]
  },
  {
   "cell_type": "markdown",
   "metadata": {
    "slideshow": {
     "slide_type": "skip"
    }
   },
   "source": [
    "<a name='exercises_infinite_loops'></a>Exercises\n",
    "---\n",
    "#### Ex 5.4: Marveling at Infinity\n",
    "- Use one of the examples of a failed while loop to create an infinite loop.\n",
    "- Interrupt your output.\n",
    "- Marvel at the fact that if you had not interrupted your output, your computer would have kept doing what you told it to until it ran out of power, or memory, or until the universe went cold around it."
   ]
  },
  {
   "cell_type": "code",
   "execution_count": 1,
   "metadata": {
    "collapsed": true,
    "jupyter": {
     "outputs_hidden": true
    },
    "slideshow": {
     "slide_type": "skip"
    }
   },
   "outputs": [],
   "source": [
    "# Ex 5.4 : Marveling at Infinity\n",
    "\n",
    "# put your code here"
   ]
  },
  {
   "cell_type": "markdown",
   "metadata": {
    "slideshow": {
     "slide_type": "skip"
    }
   },
   "source": [
    "[top](#top)"
   ]
  },
  {
   "cell_type": "markdown",
   "metadata": {
    "slideshow": {
     "slide_type": "skip"
    }
   },
   "source": [
    "<a name='overall_challenges'></a>Overall Challenges\n",
    "===\n",
    "#### Gaussian Addition\n",
    "This challenge is inspired by a story about the mathematician Carl Frederich Gauss. [As the story goes](http://mathforum.org/library/drmath/view/57919.html), when young Gauss was in grade school his teacher got mad at his class one day.\n",
    "\n",
    "\"I'll keep the lot of you busy for a while\", the teacher said sternly to the group. \"You are to add the numbers from 1 to 100, and you are not to say a word until you are done.\"\n",
    "\n",
    "The teacher expected a good period of quiet time, but a moment later our mathematician-to-be raised his hand with the answer. \"It's 5050!\" Gauss had realized that if you list all the numbers from 1 to 100, you can always match the first and last numbers in the list and get a common answer:\n",
    "\n",
    "    1, 2, 3, ..., 98, 99, 100\n",
    "    1 + 100 = 101\n",
    "    2 + 99 = 101\n",
    "    3 + 98 = 101\n",
    "\n",
    "Gauss realized there were exactly 50 pairs of numbers in the range 1 to 100, so he did a quick calculation: 50 * 101 = 5050.\n",
    "\n",
    "- Write a program that passes a list of numbers to a function.\n",
    "    - The function should use a while loop to keep popping the first and last numbers from the list and calculate the sum of those two numbers.\n",
    "    - The function should print out the current numbers that are being added, and print their partial sum.\n",
    "    - The function should keep track of how many partial sums there are.\n",
    "    - The function should then print out how many partial sums there were.\n",
    "    - The function should perform Gauss' multiplication, and report the final answer.\n",
    "- Prove that your function works, by passing in the range 1-100, and verifying that you get 5050.\n",
    "    - `gauss_addition(list(range(1,101)))`\n",
    "- Your function should work for any set of consecutive numbers, as long as that set has an even length.\n",
    "    - Bonus: Modify your function so that it works for any set of consecutive numbers, whether that set has an even or odd length."
   ]
  },
  {
   "cell_type": "code",
   "execution_count": 2,
   "metadata": {
    "collapsed": true,
    "jupyter": {
     "outputs_hidden": true
    },
    "slideshow": {
     "slide_type": "skip"
    }
   },
   "outputs": [],
   "source": [
    "# Overall Challenge: Gaussian Addition\n",
    "\n",
    "# put your code here"
   ]
  },
  {
   "cell_type": "markdown",
   "metadata": {
    "slideshow": {
     "slide_type": "skip"
    }
   },
   "source": [
    "[top](#top)"
   ]
  }
 ],
 "metadata": {
  "kernelspec": {
   "display_name": "Python 3",
   "language": "python",
   "name": "python3"
  },
  "language_info": {
   "codemirror_mode": {
    "name": "ipython",
    "version": 3
   },
   "file_extension": ".py",
   "mimetype": "text/x-python",
   "name": "python",
   "nbconvert_exporter": "python",
   "pygments_lexer": "ipython3",
   "version": "3.8.3"
  },
  "varInspector": {
   "cols": {
    "lenName": 16,
    "lenType": 16,
    "lenVar": 40
   },
   "kernels_config": {
    "python": {
     "delete_cmd_postfix": "",
     "delete_cmd_prefix": "del ",
     "library": "var_list.py",
     "varRefreshCmd": "print(var_dic_list())"
    },
    "r": {
     "delete_cmd_postfix": ") ",
     "delete_cmd_prefix": "rm(",
     "library": "var_list.r",
     "varRefreshCmd": "cat(var_dic_list()) "
    }
   },
   "types_to_exclude": [
    "module",
    "function",
    "builtin_function_or_method",
    "instance",
    "_Feature"
   ],
   "window_display": false
  }
 },
 "nbformat": 4,
 "nbformat_minor": 4
}
