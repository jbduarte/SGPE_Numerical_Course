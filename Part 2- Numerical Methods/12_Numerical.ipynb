{
 "cells": [
  {
   "cell_type": "markdown",
   "metadata": {},
   "source": [
    "# Numerical Computations in Python"
   ]
  },
  {
   "cell_type": "markdown",
   "metadata": {},
   "source": [
    "Here are the packages that are regularly used by Python users in order to perform numerical computations:\n",
    "\n",
    "- Numpy\n",
    "\n",
    "    - It is compiled on C++ and Fortran. Hence, it allows for fast vectorized computations. In some sense, it achieves the efficiency and speed of Matlab.\n",
    "    \n",
    "\n",
    "- Scipy\n",
    "\n",
    "    - Scipy contains modules for linear algebra, optimization, integration, and statistics.\n",
    "    - The main functionality of Scipy library is built upon Numpy, and its arrays thus make substantial use of NumPy (efficient code).\n",
    "    - Great documentation.\n",
    "    \n",
    "- Sympy\n",
    "    \n",
    "    - SymPy is a Python library for symbolic computation.\n",
    "    - SymPy includes features ranging from basic symbolic arithmetic to calculus, algebra, discrete mathematics and quantum physics. It is capable of formatting the result of the computations as LaTeX code.\n",
    "    - Similar to Simulink in Matlab."
   ]
  },
  {
   "cell_type": "markdown",
   "metadata": {},
   "source": [
    "### Why do we use numerical methods in Economics?\n",
    "\n",
    "\n",
    "Suppose that the demand for a good is given by:\n",
    "\n",
    "\\begin{equation}Q(p) = 0.5p^{-0.5}+ 0.3 p^{-0.2}\\end{equation}\n",
    "\n",
    "For a given demanded quantity of $Q=1$, what is the price $p$ that clears the market? Let's start by plotting the demand function:"
   ]
  },
  {
   "cell_type": "code",
   "execution_count": 1,
   "metadata": {},
   "outputs": [
    {
     "data": {
      "image/png": "[encoded data removed]",
      "text/plain": [
       "<Figure size 432x288 with 1 Axes>"
      ]
     },
     "metadata": {
      "needs_background": "light"
     },
     "output_type": "display_data"
    }
   ],
   "source": [
    "import numpy as np\n",
    "import matplotlib.pyplot as plt\n",
    "%matplotlib inline\n",
    "\n",
    "p = np.linspace(0.01, 2,200 )\n",
    "q = 0.5*p**(-0.5)+0.3*p**(-0.2)\n",
    "\n",
    "plt.figure()\n",
    "plt.plot(q, p, 'k')\n",
    "plt.xlabel('Quantity')\n",
    "plt.ylabel('Price')\n",
    "plt.title('Demand Function')\n",
    "plt.show()"
   ]
  },
  {
   "cell_type": "markdown",
   "metadata": {},
   "source": [
    "The demand function seems pretty standard. There is an inverse relationship between price and quantities. And we can clearly see that there a well defined price for a demand equal to 1:"
   ]
  },
  {
   "cell_type": "code",
   "execution_count": 3,
   "metadata": {},
   "outputs": [
    {
     "data": {
      "image/png": "[encoded data removed]",
      "text/plain": [
       "<Figure size 432x288 with 1 Axes>"
      ]
     },
     "metadata": {
      "needs_background": "light"
     },
     "output_type": "display_data"
    }
   ],
   "source": [
    "plt.figure()\n",
    "plt.plot(q, p, 'k')\n",
    "plt.axvline(x=1,color='k',ls='--')\n",
    "plt.xlabel('Quantity')\n",
    "plt.ylabel('Price')\n",
    "plt.title('Demand Function')\n",
    "plt.show()"
   ]
  },
  {
   "cell_type": "markdown",
   "metadata": {},
   "source": [
    "The price is the solution to the following equation:\n",
    "\n",
    "\\begin{equation}1 = 0.5p^{-0.5}+ 0.3 p^{-0.2} \\quad \\quad (1)\\end{equation}\n",
    "\n",
    "If you try to do it with pencil and paper, you won't succeed. This is because there is no algebraic or closed form solution. It is not possible to find the value of $p$ explicitely. Complete Exercise 1 to try and find the solution."
   ]
  },
  {
   "cell_type": "markdown",
   "metadata": {},
   "source": [
    "### Exercise 12.1\n",
    "\n",
    "- Let the excess demand function $g(p):1-0.5p^{-0.5}- 0.3 p^{-0.2}=0$. Plot it. Verify graphically that there is a $p$ such that $g(p)=0$. Define it as a python function and, through trial and error, try to find the solution such that it is correct up to the 3rd decimal."
   ]
  },
  {
   "cell_type": "code",
   "execution_count": 2,
   "metadata": {},
   "outputs": [
    {
     "data": {
      "text/plain": [
       "-0.000771458724869778"
      ]
     },
     "execution_count": 2,
     "metadata": {},
     "output_type": "execute_result"
    }
   ],
   "source": [
    "#Exercise 12.1 answers"
   ]
  },
  {
   "cell_type": "markdown",
   "metadata": {},
   "source": [
    "## Root Finding Algorithms"
   ]
  },
  {
   "cell_type": "markdown",
   "metadata": {},
   "source": [
    "We can be more precise in the way we find the solution to a problem like the one stated in Exercise 1. There are algorithms that work well under some regularity conditions. The best algorithms are the ones supported by a math theorem.\n",
    "\n",
    "An important application of The Intermediate Value Theorem is often called the Existence of Roots Theorem. Under certain conditions we can guarantee the existence of a root.\n",
    "\n",
    "> **Theorem**:\n",
    "    > *Let $f$ be a real valued function, defined and continuous on a bounded closed interval $[a, b]$ of the real line. Assume further that $f (a)f (b) < 0$. Then, there exists at least a $ρ$ in $[a,b]$, such that $f(ρ) = 0$*\n",
    "    \n",
    "Notice how the theorem doesn’t say anything about uniqueness. A sufficient condition for the solution to be unique is to further assume that the function is strictly monotonous in the interval $[a, b]$."
   ]
  },
  {
   "cell_type": "markdown",
   "metadata": {},
   "source": [
    "### Bisection Algorithm"
   ]
  },
  {
   "cell_type": "markdown",
   "metadata": {},
   "source": [
    " The bisection algorithm works as follows:\n",
    " \n",
    "1. Start with the interval $[a_1,b_1]$\n",
    " \n",
    "2. Compute $F(\\frac{a_1+b_1}{2})$\n",
    "     \n",
    "3. If the sign of $F(\\frac{a_1+b_1}{2})$ is the same as of $F(a_1)$, the root must be on the right of $F(\\frac{a_1+b_1}{2})$ and now set $a_2= \\frac{a_1+b_1}{2}$. If instead the sign of $F(\\frac{a_1+b_1}{2})$ is the same as of $F(b_1)$, the root must be on the left of $F(\\frac{a_1+b_1}{2})$ and now set instead $b_2 = \\frac{a_1+b_1}{2}$\n",
    "\n",
    "4. Go back to step 2 and repeat to arbitrary precision"
   ]
  },
  {
   "cell_type": "markdown",
   "metadata": {},
   "source": [
    "<img src=\"./images/bm.png\">\n"
   ]
  },
  {
   "cell_type": "markdown",
   "metadata": {},
   "source": [
    "### Exercise 12.2\n",
    "\n",
    "- Build a bisection function in Python. Then use it to find the price $p$ that clears the demand where $g(p)= 1- 0.5p^{-0.5}-0.3p^{-0.2}$ with tolerance $10^{-15}$."
   ]
  },
  {
   "cell_type": "code",
   "execution_count": 4,
   "metadata": {},
   "outputs": [],
   "source": [
    "#Exercise 12.2 answers\n"
   ]
  },
  {
   "cell_type": "markdown",
   "metadata": {},
   "source": [
    "### Fixed Point Algorithm"
   ]
  },
  {
   "cell_type": "markdown",
   "metadata": {},
   "source": [
    "The idea behind fixed point iteration as an algorithm to find the solution to $f (x) = 0$ is to rewrite it as a fixed point problem:\n",
    "\n",
    "$$ f(x) = 0 \\iff x = x-f(x) \\iff x = g(x), \\quad g(x) = x - f(x) $$\n",
    "\n",
    "\n",
    "> **Theorem**:\n",
    "    > *Let $g \\in C^1[a,b]:g(x)\\in [a,b], \\forall x \\in [a,b]$. Furthermore, suppose $|f'(x)|\\in [0,1)$, $\\forall x \\in [a,b]$. Then, for any given $x_0\\in [a,b]$, the sequence $x^{k+1}= f(x^k)$ converges to the unique fixed point in $[a,b]$.\n",
    "    \n",
    "    \n",
    "The algorithm involves starting with a guess $x_0$ and then iterating using the following rule:\n",
    "\n",
    "$$x^{k+1} = g(x^k)  \\quad \\quad (2)$$"
   ]
  },
  {
   "cell_type": "markdown",
   "metadata": {},
   "source": [
    "### Exercise 12.3\n",
    "\n",
    "- Define the fixed point algorithm. Then use it to find the price $p$ that clears demand $Q=1$. Use tolerance $10^{-15}$ use maximum number of iterations 1000 and initial guess $x_0=1$. Plot $g(p)$ and the 45 degree line."
   ]
  },
  {
   "cell_type": "code",
   "execution_count": 12,
   "metadata": {},
   "outputs": [],
   "source": [
    "#Exercise 12.3 answers\n",
    "    "
   ]
  },
  {
   "cell_type": "markdown",
   "metadata": {},
   "source": [
    "---"
   ]
  },
  {
   "cell_type": "markdown",
   "metadata": {},
   "source": [
    "### Newton-Rhapson Algorithm"
   ]
  },
  {
   "cell_type": "markdown",
   "metadata": {},
   "source": [
    "The Newton-Rhapson method to find the root of an equation (or a system of equations) is one of the most used in computational economics. The best way to describe the algorithm is to analyze the picture below:"
   ]
  },
  {
   "cell_type": "markdown",
   "metadata": {},
   "source": [
    "<img src=\"./images/npic.png\">"
   ]
  },
  {
   "cell_type": "markdown",
   "metadata": {},
   "source": [
    "We start with a guess $x_0$. We compute the equation of the line that is tangent to f at x0 and find the point where it intersects the x-axis. That will be our next point in the iteration:\n",
    "\n",
    "$$y = a + bx \\quad \\quad (3) $$\n",
    "\n",
    "\n",
    "Note that $b = f′(x_1)$. Substituting in (3) and solving w.r.t. $a$ yields:\n",
    "\n",
    "$$a = f(x_1) − f′(x_1)x_1 \\quad \\quad (4) $$\n",
    "\n",
    "We have expressions for $a$ and $b$ hence we have the equation of the tangent:\n",
    "\n",
    "$$y = f(x_1) − f′(x_1)x_1 + f′(x_1)x \\quad \\quad (5) $$\n",
    "\n",
    "\n",
    "The next point in the iteration, i.e., $x_1$ , has coordinates $(x_2 , 0)$. All we need is to\n",
    "substitute this in (5) and solve w.r.t. $x_2$:\n",
    "\n",
    "$$x_2 =x_1 − \\frac{f(x1)}{f′(x1)}$$\n",
    "\n",
    "\n"
   ]
  },
  {
   "cell_type": "markdown",
   "metadata": {},
   "source": [
    "It becomes clear that it is fundamental that the function is differentiable in the search space:\n",
    "\n",
    "> **Theorem**:\n",
    "    > *Let $f \\in C^1[a,b]:f(x)' \\neq 0, \\forall x \\in [a,b]$. Suppose that $\\exists x_n:f(x_n)=0$. Then, for any $x_k \\in [a,b]$, the sequence $x^{k+1}= x^k - \\frac{f(x^k)}{f'(x^k)}$ converges to $x_n$.\n",
    "    \n",
    "    \n",
    "The algorithm is similar to the fixed point algorithm. Start with an initial guess $x_0$ and then iterate with $g(x^k)$ now taking the particular form $g(x^k) = x^k - \\frac{f(x^k)}{f'(x^k)}$"
   ]
  },
  {
   "cell_type": "markdown",
   "metadata": {},
   "source": [
    "### Exercise 12.4\n",
    "\n",
    "- First, define the derivative approximation function. This function takes three arguments: 1) a function, 2) $x_0$ and 3) precision $h= x-x_0$. The derivative approximation function is given by: $f'(x_0)= \\frac{f(x_0+h)-f(x_0)}{h}$\n",
    "\n",
    "- Define the Newton-Rhapson algorithm. Then use it to find the price $p$ that clears demand $Q=1$. Use tolerance $10^{-15}$ and let the maximum number of iterations be 1000 and initial guess $x_0=1$. "
   ]
  },
  {
   "cell_type": "code",
   "execution_count": 1,
   "metadata": {},
   "outputs": [],
   "source": [
    "#Exercise 12.4 answers\n",
    "\n"
   ]
  },
  {
   "cell_type": "markdown",
   "metadata": {},
   "source": [
    "---"
   ]
  },
  {
   "cell_type": "markdown",
   "metadata": {},
   "source": [
    "## Optimization\n",
    "\n",
    "- Focus on methods designed to find extreme values of real valued functions with respect to a finite set of variables.\n",
    "\n",
    "- Arguably the most common class of problems in economics.\n",
    "\n",
    "- Apart from the grid search method, all other methods are designed to find local extreme values.\n",
    "\n",
    "\n",
    "In economics, we often want to maximize continuous concave functions over compact and convex domains, which ensures existence and uniqueness.\n",
    "\n",
    "In these cases, we are sure that an optimum found is indeed global.\n",
    "\n",
    "One should be well aware of the structure of the problem, to make sure that each method is appropriate and that adequate conclusions can be drawn from the results."
   ]
  },
  {
   "cell_type": "markdown",
   "metadata": {},
   "source": [
    "### Grid Search\n",
    "\n",
    "The name of the method is self-explanatory:\n",
    "\n",
    "1. Discretize the domain with a grid\n",
    "\n",
    "2. Evaluate the objective function at each grid point\n",
    "\n",
    "3. Check which grid point yields the maximum\n",
    "\n",
    "This method, for the desired precision level along the argument dimension, always yields a global maximum and it does not require any particular property of the objective function, such as continuity or differentiability.\n",
    "\n",
    "Though the method is easily generalizable for higher dimensions, the computational requirements of grid search grow exponentially with the dimension of the problem - the curse of dimensionality. For a two variable version of the problem above, even assuming two tax rates (two variables bounded in the unit interval) with a desired precision level of $10^{-4}$, would imply evaluating the objective function $(10^4+1)^2$ times. For a similar problem with $n$ variables, we would need a grid of $(10^4+1)^n$ points, a task that quickly becomes unfeasible."
   ]
  },
  {
   "cell_type": "markdown",
   "metadata": {},
   "source": [
    "### Exercise 12.5\n",
    "\n",
    "- Assume that the tax revenue for a government is given by $R(t)= -t^2+t$, where $t$ is the taxe rate. Use the grid search method and find the tax rate on the $[0,1]$ domain that maximizes the tax revenue up to $10^{-4}$. "
   ]
  },
  {
   "cell_type": "code",
   "execution_count": 16,
   "metadata": {},
   "outputs": [],
   "source": [
    "#Exercise 12.5 answers\n"
   ]
  },
  {
   "cell_type": "markdown",
   "metadata": {},
   "source": [
    "---"
   ]
  },
  {
   "cell_type": "markdown",
   "metadata": {},
   "source": [
    "### Golden Search\n",
    "\n",
    "The golden search method to find the maximum of a function doesn't require either the computation of any derivative. For a continuous function over a compact domain, the Weierstrass Theorem assures the existence of at least a maximum. How can we use the golden search algorithm to find it? Let's start by stating the following theorem:\n",
    "\n",
    "Let $f:X \\rightarrow Y, X,Y \\subset \\mathbb{R}$ be a continuous function over the interval $[a,b], a<b$ and $a,b \\in X$. Let $x^l_1,x^h_2 \\in [a,b]: x^l_1<x^h_2$. If $f(x^l_1)<f(x^h_1)$ then there is at least a maximum in the interval $[x^l_1,b]$. Conversely, if $f(x^l_1)>f(x^h_1)$ then there exists at least a maximum in the interval $[a,x^h_1]$.\n",
    "\n",
    "The iterative procedure below assures that a maximum will be found within a non-zero tolerance level in a finite number of iterations. The fact that this algorithm does not rely on differentiability and that it is quite robust, make it quite popular for a number of applications.\n"
   ]
  },
  {
   "cell_type": "markdown",
   "metadata": {},
   "source": [
    "<img src=\"./images/golden.png\" alt = \"Drawing\" style=\"width: 400px;\"/>\n"
   ]
  },
  {
   "cell_type": "markdown",
   "metadata": {},
   "source": [
    "The speed with which the algorithm converges to  solution can be improved by setting a rule for the choice of the two interior points in ech iteration. The rule is, at the $k^{th}$ iteration, to choose $x_k^l,x_k^h$ such that:\n",
    "$$x^l_k=a_k+\\frac{3-\\sqrt{5}}{2}(b_k-a_k)$$\n",
    "\n",
    "$$x^h_k=a_k+\\frac{\\sqrt{5}-1}{2}(b_k-a_k)$$"
   ]
  },
  {
   "cell_type": "markdown",
   "metadata": {},
   "source": [
    "The fraction in the second equation is known as the golden ratio. "
   ]
  },
  {
   "cell_type": "markdown",
   "metadata": {},
   "source": [
    "### Exercise 12.6\n",
    "- Write a python function that for a given function $f$, an interval $[a,b]$ and a degree of precision $\\epsilon$, finds the argmax and maximum of the function $f$.\n",
    "- Use it to find the maximum of the function $f(x)=x\\cos(x^2)$ in the interval $[0,3]$, up to $10^{-10}$ precision.\n",
    "- Plot $f$ in the interval $[0,3]$.\n"
   ]
  },
  {
   "cell_type": "markdown",
   "metadata": {},
   "source": [
    "We found a maximum in Exercise 6 but as we saw, it is not a global one. It is always very important to have very clear in mind what are the assumptions and the conclusions that each algorithm allows us to draw when used."
   ]
  },
  {
   "cell_type": "markdown",
   "metadata": {},
   "source": [
    "---"
   ]
  },
  {
   "cell_type": "markdown",
   "metadata": {},
   "source": [
    "### Newton-Rhapson"
   ]
  },
  {
   "cell_type": "markdown",
   "metadata": {},
   "source": [
    "Newton-Rhapson methods rely in the notion that finding the maximum of a function can be achieved by finding the root of the first derivative. Let's start with our definition of gradient of real valued functions of $n$ variables:"
   ]
  },
  {
   "cell_type": "markdown",
   "metadata": {},
   "source": [
    "Let $f:\\mathbb{R}^n \\rightarrow \\mathbb{R}, f \\in \\mathbb{C}^2$. Then, $ \\exists \\nabla f:\\mathbb{R}^n \\rightarrow \\mathbb{R}, \\nabla f(x)=\\left(\\frac{\\partial f(\\textbf{x})}{\\partial x_1},...,\\frac{\\partial f(\\textbf{x})}{\\partial x_n}\\right)$."
   ]
  },
  {
   "cell_type": "markdown",
   "metadata": {},
   "source": [
    "Notice that we do not need twice continuous differentiability to be able to define a gradient function, but we will need it in order to implement our gradient-based optimization methods. Before using the gradient method directly to search for the maximum of a function, we will start by solving an optimization problem by finding the root of the first order conditions. Let's look at the below exercise."
   ]
  },
  {
   "cell_type": "markdown",
   "metadata": {},
   "source": [
    "Assume an agent lives for two periods, faces the budget constraints and derives utility from consumption as specified below. What is the optimal consumption schedule?\n",
    "\n",
    "$$\\max_{c_1,c_2}U(c_{1},c_{2})=\\frac{c_{1}^{1-\\mu}}{1-\\mu}+\\beta \\frac{c_{2}^{1-\\gamma}}{1-\\gamma}$$\n",
    "subject to:\n",
    "$$c_{1} =y-s$$\n",
    "\n",
    "$$c_{2} =y+Rs$$"
   ]
  },
  {
   "cell_type": "markdown",
   "metadata": {},
   "source": [
    "First lets transform this two dimensional problem into a one variable one, by substituting the constrains into the utility function:\n",
    "\n",
    "$$ \\max_{s} \\frac{(y-s)^{1-\\mu}}{1-\\mu}+ \\beta \\frac{(y+Rs)^{1-\\gamma}}{1-\\gamma} $$"
   ]
  },
  {
   "cell_type": "markdown",
   "metadata": {},
   "source": [
    "We can then write a optimization version of the Newton-Rhapson theorem for root-finding problems:\n",
    "\n",
    "Let $f\\in C^2[a,b]: f''(x) \\neq 0, \\forall x \\in [a,b]$. Suppose that $\\exists x_n: f'(x_n)=0$. Then, for any $x_k \\in [a,b]$, the sequence $x^{k+1}=x^k-\\frac{f'(x^k)}{f''(x^k)}$ converges to $x_n$.\n"
   ]
  },
  {
   "cell_type": "markdown",
   "metadata": {},
   "source": [
    "Implementing this leads to a new version of the Netwon-Rhapson function in a previous exercise, but now we just need to write it in a way that it finds the root of the derivative of the provided function."
   ]
  },
  {
   "cell_type": "markdown",
   "metadata": {},
   "source": [
    "Assume the following parameters: \n",
    "\n",
    "$\\mu = 1.1$, \n",
    "$\\beta = 0.95$, \n",
    "$\\gamma = 1.2$, \n",
    "$R = 1.05$, \n",
    "$y = 10$"
   ]
  },
  {
   "cell_type": "markdown",
   "metadata": {},
   "source": [
    "### Exercise 12.7\n",
    "- Write a version of the Newton-Rhapson function above that takes as inputs a function $f$ and a guess $x0$ and as output the value of $x$ that maximizes $f$.\n",
    "- Use this function to solve the above maximization problem in $s$"
   ]
  },
  {
   "cell_type": "code",
   "execution_count": null,
   "metadata": {},
   "outputs": [],
   "source": [
    "#Exercise 12.7 answers"
   ]
  },
  {
   "cell_type": "markdown",
   "metadata": {},
   "source": [
    "### Solving systems of non-linear equations with gradient based methods"
   ]
  },
  {
   "cell_type": "markdown",
   "metadata": {},
   "source": [
    "The problem above is simple enough that we can turn it into one equation and one unknown. We then iteratively use the budget constraint in each period to backout consumption in both periods, from optimal savings. However, that is seldom the case. More often then not, you will find yourself having to solve square systems i.e., systems of $n$ equations in $n$ unknowns. In general, the simple consumption-savings problem above, if in an environment with $T$ periods, will imply $T-1$ Euler equations and one consolidated budget constraint."
   ]
  },
  {
   "cell_type": "markdown",
   "metadata": {},
   "source": [
    "Consolidate the budget constraints by substituting away s and combine the first order conditions w.r.t. $c_1, c_2$ to get:\n",
    "\n",
    "$$c_1^{-\\mu}-\\beta R c_2^{-\\gamma} =0$$\n",
    "\n",
    "$$c_1 + \\frac{c_2}{R}-y -\\frac{y}{R} =0  $$"
   ]
  },
  {
   "cell_type": "markdown",
   "metadata": {},
   "source": [
    "This is a system of non-linear equations and can be solved by some of the methods introduced before, now generalized for an arbitrary number of equations. We will use Pythons’s implementation of the Newton-Rhapson algorithm, the function `optimize.root` inside `scipy`. Conceptually, where we before computed successive tangent lines to the function at consecutive points, we will now compute tangent hyper-planes to multi-dimensional surfaces.\n",
    "\n",
    "The strategy is typically to create a file that takes as inputs a vector of guesses for the solution of each of the $T$ equations in the form of $f(X)=0$, and gives as output, the residual of those equations. This is the format most solvers use."
   ]
  },
  {
   "cell_type": "markdown",
   "metadata": {},
   "source": [
    "### Exercise 12.8\n",
    "\n",
    "- Build a function that returns an array with two elements, i.e. the residuals of the first order conditions for given $c_1, c_2$.\n",
    "\n",
    "- Use the `optimize.root` to get the optimal allocations, i.e. the ones that make the first order conditions zero."
   ]
  },
  {
   "cell_type": "code",
   "execution_count": 1,
   "metadata": {},
   "outputs": [],
   "source": [
    "#Ex 12.8 answers"
   ]
  },
  {
   "cell_type": "markdown",
   "metadata": {},
   "source": [
    "[- More info at Scipy Optimize Documentation](https://docs.scipy.org/doc/scipy-0.14.0/reference/tutorial/optimize.html)"
   ]
  },
  {
   "cell_type": "markdown",
   "metadata": {},
   "source": [
    "---"
   ]
  },
  {
   "cell_type": "markdown",
   "metadata": {},
   "source": [
    "### Constrained Optimization\n",
    "To solve the previous exercises, we substituted the constraints into the objective function or in the first order conditions of the problem. In this way, we avoided dealing with them explicitely. However, we were allowed to do it because the constraints are satisfied with equality. In general that may not be the case. An example often used is when we want to create an environment where agents are not allowed to borrow. In this case we want to add the constraint that asset holdings cannot be negative, an inequality constraint. Remember also that for the budget constraint, we claim it holds with equality based on a non-satiation argument i.e. that the marginal utility is strictly positive. Again, that may not always be the case.\n",
    "\n",
    "In this section we will introduce two methods of dealing with inequality constraints. The first one is based on the Karush-Kuhn-Tucker theorem. The second will  make use of a penalty function.\n",
    "\n",
    "### Karush-Kuhn-Tucker\n",
    "As said before when using the Lagrange formulation, we assume interior solutions in the sense that the constraints are satisfied with equality. Let's restate the previous savings problem, but now imposing a no-borrowing constraint:\n",
    "\n",
    "$$\\max_{c_1,c_2}U(c_{1},c_{2}) =\\frac{c_{1}^{1-\\mu }}{1-\\mu }+\\beta \\frac{c_{2}^{1-\\gamma }}{1-\\gamma }$$\n",
    "subject to:\n",
    "$$c_{1} =y-s$$\n",
    "$$c_{2} =y+Rs$$\n",
    "$$s \\geq 0 $$\n",
    "\n",
    "We can no longer substitute away $s$ because of the inequality. Let's build the Lagrange function:\n",
    "\n",
    "$$\\mathcal{L}=\\frac{c_{1}^{1-\\mu }}{1-\\mu}+\\beta \\frac{c_{2}^{1-\\gamma }}{1-\\gamma }+\\lambda_1(y-s-c_1)+\\lambda_2(y+Rs-c_2)+\\lambda_3s $$\n",
    "\n",
    "The first order conditions w.r.t. $c_1, c_2, s, \\lambda_1, \\lambda_2$ and $\\lambda_3$ respectively are:\n",
    "\n",
    "$$c_1^{-\\mu}-\\lambda_1 =0$$\n",
    "\n",
    "$$\\beta c_2^{-\\gamma}-\\lambda_2 = 0$$\n",
    "\n",
    "$$-\\lambda_1+R\\lambda_2+\\lambda_3 = 0$$\n",
    "\n",
    "$$y-s-c_1 =0$$\n",
    "\n",
    "$$y+Rs-c_2 = 0 $$\n",
    "\n",
    "$$\\lambda_3s =0 $$\n",
    "\n",
    "\n",
    "The system is determinate, we have 6 equations in six unknowns. The issue is to look for the solution such that $\\lambda_3 \\geq 0$ if $s\\leq0$ so that the no borrowing constraint holds. Notice that now the previous version of the Euler equation will not hold with equality in general. The agent will no longer be able to smooth consumption if he is liquidity constrained. To see this, notice that the system above is equivalent to:\n",
    "\n",
    "$$c_1^{-\\mu}-R\\beta c_2^{-\\gamma}+\\lambda_3 =0$$\n",
    "$$y-s-c_1 =0$$\n",
    "$$y+Rs-c_2 = 0$$\n",
    "$$\\lambda_3s =0 $$\n",
    "\n",
    "\n",
    "Notice how if $\\lambda_3 >0$, the last condition implies that the agent is liquidity constrained i.e. $s=0$ and that no longer $c_1^{-\\mu}=R\\beta c_2^{-\\gamma}$ as before.\n",
    "\n",
    "We can use a modified version of the auxiliary function we built for Exercise 8, to solve this.\n",
    "\n",
    "The way to introduce a multiplier that must be equal or greater than zero is by making use of the $\\max(0,\\lambda_3)$ term. Notice that if the agent is liquidity constrained, then $c_1^{-\\mu}<R\\beta c_2^{-\\gamma}$ and consequently $\\lambda_3>0$ and $s=0$. This means that $\\max(0,\\lambda_3)>0$ and that $\\max(0,-\\lambda_3)=0$ implies $s = 0$, by the sixth equation in the `auxg2`function."
   ]
  },
  {
   "cell_type": "markdown",
   "metadata": {},
   "source": [
    "### Exercise 12.9\n",
    "- Use the `optimize.root` function from numpy to  find the solution to the above problem."
   ]
  },
  {
   "cell_type": "code",
   "execution_count": null,
   "metadata": {},
   "outputs": [],
   "source": [
    "#Exercise 12.9 answers"
   ]
  },
  {
   "cell_type": "markdown",
   "metadata": {},
   "source": [
    "### The Penalty Function method\n",
    "As the name suggests, this method involves the specification of a penalty function. We will use this with hill-climbing algorithms by redefining the objective function in order to penalize solutions that are outside our constrained choice set, such that they will never be optimal. Let's restate the original consumption-savings problem as:\n",
    "\n",
    "$$\\max_{s}U(y-s,y+Rs) =\\frac{(y-s)^{1-\\mu }}{1-\\mu }+\\beta \\frac{(y+Rs)^{1-\\gamma }}{1-\\gamma } + 1000\\max(0,-s)$$\n",
    "\n",
    "It is clear how choosing negative savings is never optimal in this context. This leads us to the next exercise."
   ]
  },
  {
   "cell_type": "markdown",
   "metadata": {},
   "source": [
    "### Exercise 12.10\n",
    "- Create a python function with the expression above and then use one maximization procedure of your choice to find the constrained maximum."
   ]
  }
 ],
 "metadata": {
  "kernelspec": {
   "display_name": "Python 3",
   "language": "python",
   "name": "python3"
  },
  "language_info": {
   "codemirror_mode": {
    "name": "ipython",
    "version": 3
   },
   "file_extension": ".py",
   "mimetype": "text/x-python",
   "name": "python",
   "nbconvert_exporter": "python",
   "pygments_lexer": "ipython3",
   "version": "3.8.5"
  },
  "varInspector": {
   "cols": {
    "lenName": 16,
    "lenType": 16,
    "lenVar": 40
   },
   "kernels_config": {
    "python": {
     "delete_cmd_postfix": "",
     "delete_cmd_prefix": "del ",
     "library": "var_list.py",
     "varRefreshCmd": "print(var_dic_list())"
    },
    "r": {
     "delete_cmd_postfix": ") ",
     "delete_cmd_prefix": "rm(",
     "library": "var_list.r",
     "varRefreshCmd": "cat(var_dic_list()) "
    }
   },
   "types_to_exclude": [
    "module",
    "function",
    "builtin_function_or_method",
    "instance",
    "_Feature"
   ],
   "window_display": false
  }
 },
 "nbformat": 4,
 "nbformat_minor": 4
}