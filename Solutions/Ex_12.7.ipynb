{
 "cells": [
  {
   "cell_type": "code",
   "execution_count": 8,
   "metadata": {},
   "outputs": [],
   "source": [
    "import numpy as np\n",
    "import scipy.optimize as opt\n",
    "\n",
    "# define parameters\n",
    "mu = 1.1\n",
    "beta = 0.95\n",
    "gamma = 1.2\n",
    "R = 1.05\n",
    "y = 10\n",
    "\n",
    "# lets define a function with all the first order conditions\n",
    "\n",
    "def first_order_cond_resids(x):\n",
    "    '''\n",
    "    inputs: a list with two values c1 and c2,\n",
    "    output: a list with two residuals, one for each first order condition equation\n",
    "    '''\n",
    "    c1 = x[0]\n",
    "    c2 = x[1] \n",
    "    # our guess for the three variables\n",
    "\n",
    "    e =  np.ones(2)\n",
    "    e[0] = (c1**-mu)-(beta*R*c2**-gamma)\n",
    "    e[1] = c1+(c2/R)-y-(y/R)\n",
    "\n",
    "    res = e\n",
    "    \n",
    "    # if our guess solves our problem, then e is approximately zeros(2,1).\n",
    "    return res"
   ]
  },
  {
   "cell_type": "code",
   "execution_count": 12,
   "metadata": {},
   "outputs": [
    {
     "name": "stdout",
     "output_type": "stream",
     "text": [
      "    fjac: array([[-0.02023412,  0.99979527],\n",
      "       [-0.99979527, -0.02023412]])\n",
      "     fun: array([-2.42861287e-15,  1.77635684e-15])\n",
      " message: 'The solution converged.'\n",
      "    nfev: 9\n",
      "     qtf: array([-1.13020931e-11, -5.58363890e-10])\n",
      "       r: array([ 1.00020477,  0.95224359, -0.01642343])\n",
      "  status: 1\n",
      " success: True\n",
      "       x: array([10.97840723,  8.97267241])\n"
     ]
    }
   ],
   "source": [
    "sol = opt.root(first_order_cond_resids, [1,1]) # need to give 2 inial guesses since now we want to find 2 roots\n",
    "print(sol)"
   ]
  },
  {
   "cell_type": "code",
   "execution_count": 16,
   "metadata": {},
   "outputs": [
    {
     "name": "stdout",
     "output_type": "stream",
     "text": [
      "[10.97840723  8.97267241]\n",
      "c1 is 10.978407230444985 and c2 is 8.972672408032768\n"
     ]
    }
   ],
   "source": [
    "solutions = sol.x\n",
    "print(solutions)\n",
    "c1 = solutions[0]\n",
    "c2 = solutions[1]\n",
    "\n",
    "print('c1 is', c1, 'and c2 is', c2)"
   ]
  }
 ],
 "metadata": {
  "kernelspec": {
   "display_name": "Python 3",
   "language": "python",
   "name": "python3"
  },
  "language_info": {
   "codemirror_mode": {
    "name": "ipython",
    "version": 3
   },
   "file_extension": ".py",
   "mimetype": "text/x-python",
   "name": "python",
   "nbconvert_exporter": "python",
   "pygments_lexer": "ipython3",
   "version": "3.8.3"
  },
  "varInspector": {
   "cols": {
    "lenName": 16,
    "lenType": 16,
    "lenVar": 40
   },
   "kernels_config": {
    "python": {
     "delete_cmd_postfix": "",
     "delete_cmd_prefix": "del ",
     "library": "var_list.py",
     "varRefreshCmd": "print(var_dic_list())"
    },
    "r": {
     "delete_cmd_postfix": ") ",
     "delete_cmd_prefix": "rm(",
     "library": "var_list.r",
     "varRefreshCmd": "cat(var_dic_list()) "
    }
   },
   "types_to_exclude": [
    "module",
    "function",
    "builtin_function_or_method",
    "instance",
    "_Feature"
   ],
   "window_display": false
  }
 },
 "nbformat": 4,
 "nbformat_minor": 4
}
