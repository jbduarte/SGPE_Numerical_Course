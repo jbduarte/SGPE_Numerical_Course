{
 "cells": [
  {
   "cell_type": "code",
   "execution_count": 6,
   "metadata": {},
   "outputs": [],
   "source": [
    "import numpy as np\n",
    "import matplotlib.pyplot as plt\n",
    "\n",
    "# lets define the fix point function for root finding\n",
    "def fixproot(f,x0,tol,maxiter):\n",
    "    \"\"\"\n",
    "    inputs: function, initial guess for the root,  tolerance, max number of iterations \n",
    "    output : the root of f (numerical). \n",
    "    \"\"\"\n",
    "\n",
    "    g = lambda x: x-f(x)\n",
    "    iter = 0\n",
    "    d=1\n",
    "    while (abs(d) > tol and iter < maxiter):\n",
    "        x = g(x0) \n",
    "        d=abs(x-x0) \n",
    "        x0=x\n",
    "        iter += 1\n",
    "    \n",
    "    if iter == maxiter:\n",
    "        print('maximum number of iterations reached, convergenge not assured')\n",
    "    \n",
    "    return x0"
   ]
  },
  {
   "cell_type": "code",
   "execution_count": 7,
   "metadata": {},
   "outputs": [
    {
     "data": {
      "text/plain": [
       "0.5670944159657578"
      ]
     },
     "execution_count": 7,
     "metadata": {},
     "output_type": "execute_result"
    }
   ],
   "source": [
    "def excess(p):\n",
    "    return 1-0.5*p**-0.5-0.3*p**-0.2\n",
    "\n",
    "fixproot(excess, 1, 10**-15, 1000)"
   ]
  },
  {
   "cell_type": "code",
   "execution_count": 8,
   "metadata": {},
   "outputs": [
    {
     "data": {
      "image/png": "[encoded data removed]",
      "text/plain": [
       "<Figure size 432x288 with 1 Axes>"
      ]
     },
     "metadata": {
      "needs_background": "light"
     },
     "output_type": "display_data"
    }
   ],
   "source": [
    "# lets plot g(p) and the 45 degrees line\n",
    "\n",
    "def g(p):\n",
    "    return p - excess(p)\n",
    "\n",
    "p_domain = np.linspace(0.05, 5, 100)\n",
    "\n",
    "plt.figure()\n",
    "plt.plot(p_domain, g(p_domain), 'green')\n",
    "plt.plot(p_domain, p_domain, 'red')\n",
    "plt.show()"
   ]
  },
  {
   "cell_type": "code",
   "execution_count": null,
   "metadata": {},
   "outputs": [],
   "source": []
  }
 ],
 "metadata": {
  "kernelspec": {
   "display_name": "Python 3",
   "language": "python",
   "name": "python3"
  },
  "language_info": {
   "codemirror_mode": {
    "name": "ipython",
    "version": 3
   },
   "file_extension": ".py",
   "mimetype": "text/x-python",
   "name": "python",
   "nbconvert_exporter": "python",
   "pygments_lexer": "ipython3",
   "version": "3.8.3"
  },
  "varInspector": {
   "cols": {
    "lenName": 16,
    "lenType": 16,
    "lenVar": 40
   },
   "kernels_config": {
    "python": {
     "delete_cmd_postfix": "",
     "delete_cmd_prefix": "del ",
     "library": "var_list.py",
     "varRefreshCmd": "print(var_dic_list())"
    },
    "r": {
     "delete_cmd_postfix": ") ",
     "delete_cmd_prefix": "rm(",
     "library": "var_list.r",
     "varRefreshCmd": "cat(var_dic_list()) "
    }
   },
   "types_to_exclude": [
    "module",
    "function",
    "builtin_function_or_method",
    "instance",
    "_Feature"
   ],
   "window_display": false
  }
 },
 "nbformat": 4,
 "nbformat_minor": 4
}
