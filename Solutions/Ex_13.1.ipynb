{
 "cells": [
  {
   "cell_type": "code",
   "execution_count": 5,
   "metadata": {},
   "outputs": [
    {
     "data": {
      "text/html": [
       "<div>\n",
       "<style scoped>\n",
       "    .dataframe tbody tr th:only-of-type {\n",
       "        vertical-align: middle;\n",
       "    }\n",
       "\n",
       "    .dataframe tbody tr th {\n",
       "        vertical-align: top;\n",
       "    }\n",
       "\n",
       "    .dataframe thead th {\n",
       "        text-align: right;\n",
       "    }\n",
       "</style>\n",
       "<table border=\"1\" class=\"dataframe\">\n",
       "  <thead>\n",
       "    <tr style=\"text-align: right;\">\n",
       "      <th></th>\n",
       "      <th>Unnamed: 0</th>\n",
       "      <th>exper</th>\n",
       "      <th>sex</th>\n",
       "      <th>school</th>\n",
       "      <th>wage</th>\n",
       "    </tr>\n",
       "  </thead>\n",
       "  <tbody>\n",
       "    <tr>\n",
       "      <th>3289</th>\n",
       "      <td>3290</td>\n",
       "      <td>6</td>\n",
       "      <td>male</td>\n",
       "      <td>9</td>\n",
       "      <td>4.287114</td>\n",
       "    </tr>\n",
       "    <tr>\n",
       "      <th>3290</th>\n",
       "      <td>3291</td>\n",
       "      <td>5</td>\n",
       "      <td>male</td>\n",
       "      <td>9</td>\n",
       "      <td>7.145190</td>\n",
       "    </tr>\n",
       "    <tr>\n",
       "      <th>3291</th>\n",
       "      <td>3292</td>\n",
       "      <td>6</td>\n",
       "      <td>male</td>\n",
       "      <td>9</td>\n",
       "      <td>4.538784</td>\n",
       "    </tr>\n",
       "    <tr>\n",
       "      <th>3292</th>\n",
       "      <td>3293</td>\n",
       "      <td>10</td>\n",
       "      <td>male</td>\n",
       "      <td>8</td>\n",
       "      <td>2.909113</td>\n",
       "    </tr>\n",
       "    <tr>\n",
       "      <th>3293</th>\n",
       "      <td>3294</td>\n",
       "      <td>7</td>\n",
       "      <td>male</td>\n",
       "      <td>7</td>\n",
       "      <td>4.153974</td>\n",
       "    </tr>\n",
       "  </tbody>\n",
       "</table>\n",
       "</div>"
      ],
      "text/plain": [
       "      Unnamed: 0  exper   sex  school      wage\n",
       "3289        3290      6  male       9  4.287114\n",
       "3290        3291      5  male       9  7.145190\n",
       "3291        3292      6  male       9  4.538784\n",
       "3292        3293     10  male       8  2.909113\n",
       "3293        3294      7  male       7  4.153974"
      ]
     },
     "execution_count": 5,
     "metadata": {},
     "output_type": "execute_result"
    }
   ],
   "source": [
    "import pandas as pd\n",
    "import matplotlib.pyplot as plt\n",
    "import numpy as np\n",
    "\n",
    "data = pd.read_csv(\"https://vincentarelbundock.github.io/Rdatasets/csv/Ecdat/Wages1.csv\")\n",
    "\n",
    "# get last 5 obs in data\n",
    "data.tail(5)"
   ]
  },
  {
   "cell_type": "code",
   "execution_count": 6,
   "metadata": {},
   "outputs": [],
   "source": [
    "# create wages dataset\n",
    "data_wages = data['wage']\n",
    "\n",
    "# transform wages to log wages\n",
    "log_wages = data_wages.copy()\n",
    "log_wages = np.log(log_wages)\n",
    "\n",
    "# save log wages to an excel file\n",
    "log_wages.to_excel(\"log_wages.xlsx\")"
   ]
  },
  {
   "cell_type": "code",
   "execution_count": 12,
   "metadata": {},
   "outputs": [
    {
     "name": "stdout",
     "output_type": "stream",
     "text": [
      "sex\n",
      "female    5.146924\n",
      "male      6.313021\n",
      "Name: wage, dtype: float64\n",
      "6.31302115937432 5.146923867880244\n"
     ]
    }
   ],
   "source": [
    "# compute average wage by sex\n",
    "average_wage = data.groupby('sex').aggregate(np.mean)['wage'] # this gives us a Series object\n",
    "print(average_wage) \n",
    "\n",
    "# alternative way\n",
    "avg_male = np.mean(data[data['sex'] == 'male'])['wage'] # this gives us just the male elements\n",
    "avg_female = np.mean(data[data['sex'] == 'female'])['wage'] # this gives us just the female elements\n",
    "print(avg_male, avg_female) "
   ]
  },
  {
   "cell_type": "code",
   "execution_count": 13,
   "metadata": {},
   "outputs": [
    {
     "data": {
      "text/html": [
       "<div>\n",
       "<style scoped>\n",
       "    .dataframe tbody tr th:only-of-type {\n",
       "        vertical-align: middle;\n",
       "    }\n",
       "\n",
       "    .dataframe tbody tr th {\n",
       "        vertical-align: top;\n",
       "    }\n",
       "\n",
       "    .dataframe thead th {\n",
       "        text-align: right;\n",
       "    }\n",
       "</style>\n",
       "<table border=\"1\" class=\"dataframe\">\n",
       "  <thead>\n",
       "    <tr style=\"text-align: right;\">\n",
       "      <th></th>\n",
       "      <th>Unnamed: 0</th>\n",
       "      <th>exper</th>\n",
       "      <th>school</th>\n",
       "      <th>wage</th>\n",
       "    </tr>\n",
       "    <tr>\n",
       "      <th>sex</th>\n",
       "      <th></th>\n",
       "      <th></th>\n",
       "      <th></th>\n",
       "      <th></th>\n",
       "    </tr>\n",
       "  </thead>\n",
       "  <tbody>\n",
       "    <tr>\n",
       "      <th>female</th>\n",
       "      <td>785.0</td>\n",
       "      <td>7.732314</td>\n",
       "      <td>11.837476</td>\n",
       "      <td>5.146924</td>\n",
       "    </tr>\n",
       "    <tr>\n",
       "      <th>male</th>\n",
       "      <td>2432.0</td>\n",
       "      <td>8.326377</td>\n",
       "      <td>11.442319</td>\n",
       "      <td>6.313021</td>\n",
       "    </tr>\n",
       "  </tbody>\n",
       "</table>\n",
       "</div>"
      ],
      "text/plain": [
       "        Unnamed: 0     exper     school      wage\n",
       "sex                                              \n",
       "female       785.0  7.732314  11.837476  5.146924\n",
       "male        2432.0  8.326377  11.442319  6.313021"
      ]
     },
     "execution_count": 13,
     "metadata": {},
     "output_type": "execute_result"
    }
   ],
   "source": [
    "# compute average of all variables by sex\n",
    "average_data = data.groupby('sex').aggregate(np.mean)\n",
    "average_data"
   ]
  },
  {
   "cell_type": "code",
   "execution_count": 25,
   "metadata": {},
   "outputs": [
    {
     "name": "stdout",
     "output_type": "stream",
     "text": [
      "1569\n"
     ]
    }
   ],
   "source": [
    "sex_counts = data['sex'].value_counts()\n",
    "print(sex_counts.loc[\"female\"])"
   ]
  }
 ],
 "metadata": {
  "kernelspec": {
   "display_name": "Python 3",
   "language": "python",
   "name": "python3"
  },
  "language_info": {
   "codemirror_mode": {
    "name": "ipython",
    "version": 3
   },
   "file_extension": ".py",
   "mimetype": "text/x-python",
   "name": "python",
   "nbconvert_exporter": "python",
   "pygments_lexer": "ipython3",
   "version": "3.7.6"
  },
  "varInspector": {
   "cols": {
    "lenName": 16,
    "lenType": 16,
    "lenVar": 40
   },
   "kernels_config": {
    "python": {
     "delete_cmd_postfix": "",
     "delete_cmd_prefix": "del ",
     "library": "var_list.py",
     "varRefreshCmd": "print(var_dic_list())"
    },
    "r": {
     "delete_cmd_postfix": ") ",
     "delete_cmd_prefix": "rm(",
     "library": "var_list.r",
     "varRefreshCmd": "cat(var_dic_list()) "
    }
   },
   "types_to_exclude": [
    "module",
    "function",
    "builtin_function_or_method",
    "instance",
    "_Feature"
   ],
   "window_display": false
  }
 },
 "nbformat": 4,
 "nbformat_minor": 2
}
