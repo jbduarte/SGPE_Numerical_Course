{
 "cells": [
  {
   "cell_type": "code",
   "execution_count": 4,
   "metadata": {},
   "outputs": [],
   "source": [
    "import numpy as np \n",
    "\n",
    "# define numerical derivative function\n",
    "def deriv(f,x0,h=10**-6):\n",
    "    \"\"\"\n",
    "    This function takes as arguments the C2 function f, a point x0 in the \n",
    "    domain of f and a perturbation scalar h\n",
    "    the output d is the numerical approximation of the derivative of f at the\n",
    "    % point x0\n",
    "    \n",
    "    inputs: function, point of evaluation, precision\n",
    "    output: derivative evaluation at x0 (numerical)\n",
    "    \"\"\"\n",
    "    return (f(x0+h)-f(x0-h))/(2.0*h);\n",
    "\n",
    "\n",
    "# define Newton-Rhapson root finding function\n",
    "def nwt(f,x0,tol):\n",
    "    \"\"\" \n",
    "    This function takes as inputs a function f, scalar guess for the root of\n",
    "    f, x0 and scalar perturbation h to compute the derivative.\n",
    "    The output is the numerical approximation to the root of f, following the\n",
    "    Newton-Rhapson method. \n",
    "    \n",
    "    inputs: function, initial guess, precision\n",
    "    output: root (numerical)\n",
    "    \"\"\"\n",
    "\n",
    "    i   = 1\n",
    "\n",
    "    while (i <= 999 and abs(f(x0))>tol):\n",
    "        x0 = x0 - f(x0)/deriv(f,x0)\n",
    "        i += 1\n",
    "        \n",
    "    # Conditions for first logical statement\n",
    "    f1 = f(x0) > tol\n",
    "    f2 = np.isnan(x0)\n",
    "    \n",
    "    if (f1 or f2): \n",
    "        print('Root not found. Maximum number of iterations reached!')\n",
    "    elif f(x0)<=tol:\n",
    "        root = x0\n",
    "        print('Root found in ' + str(i) + ' iterations')\n",
    "    return(root)"
   ]
  },
  {
   "cell_type": "code",
   "execution_count": 10,
   "metadata": {},
   "outputs": [
    {
     "name": "stdout",
     "output_type": "stream",
     "text": [
      "Root found in 9 iterations\n"
     ]
    },
    {
     "data": {
      "text/plain": [
       "0.5670944159657576"
      ]
     },
     "execution_count": 10,
     "metadata": {},
     "output_type": "execute_result"
    }
   ],
   "source": [
    "def excess(p):\n",
    "    return 1-0.5*p**-0.5-0.3*p**-0.2\n",
    "\n",
    "nwt(excess, 1.2 ,10**-15)"
   ]
  },
  {
   "cell_type": "code",
   "execution_count": null,
   "metadata": {},
   "outputs": [],
   "source": []
  }
 ],
 "metadata": {
  "kernelspec": {
   "display_name": "Python 3",
   "language": "python",
   "name": "python3"
  },
  "language_info": {
   "codemirror_mode": {
    "name": "ipython",
    "version": 3
   },
   "file_extension": ".py",
   "mimetype": "text/x-python",
   "name": "python",
   "nbconvert_exporter": "python",
   "pygments_lexer": "ipython3",
   "version": "3.8.3"
  },
  "varInspector": {
   "cols": {
    "lenName": 16,
    "lenType": 16,
    "lenVar": 40
   },
   "kernels_config": {
    "python": {
     "delete_cmd_postfix": "",
     "delete_cmd_prefix": "del ",
     "library": "var_list.py",
     "varRefreshCmd": "print(var_dic_list())"
    },
    "r": {
     "delete_cmd_postfix": ") ",
     "delete_cmd_prefix": "rm(",
     "library": "var_list.r",
     "varRefreshCmd": "cat(var_dic_list()) "
    }
   },
   "types_to_exclude": [
    "module",
    "function",
    "builtin_function_or_method",
    "instance",
    "_Feature"
   ],
   "window_display": false
  }
 },
 "nbformat": 4,
 "nbformat_minor": 4
}
