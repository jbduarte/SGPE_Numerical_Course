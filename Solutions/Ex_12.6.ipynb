{
 "cells": [
  {
   "cell_type": "code",
   "execution_count": 28,
   "metadata": {},
   "outputs": [
    {
     "name": "stdout",
     "output_type": "stream",
     "text": [
      "Optimal savings is -0.9782165418946102\n"
     ]
    }
   ],
   "source": [
    "import numpy as np\n",
    "import scipy.optimize as opt\n",
    "\n",
    "# define parameters\n",
    "mu = 1.1\n",
    "beta = 0.95\n",
    "gamma = 1.2\n",
    "R = 1.05\n",
    "y = 10\n",
    "\n",
    "# lets define the utility function as a function of savings, s\n",
    "# since we will use minimize function we need to define the negative of the function we want to maximize\n",
    "def u(s):\n",
    "    return -(((y-s)**(1-mu))/(1-mu)+beta*((y+R*s)**(1-gamma))/(1-gamma))\n",
    "\n",
    "sol = opt.minimize(u, 0.1)\n",
    "#print(sol) check for full output of minimize method\n",
    "\n",
    "# the optimal s is:\n",
    "print('Optimal savings is', sol.x[0])\n",
    "# hence households want to borrow given current parameters and income."
   ]
  },
  {
   "cell_type": "code",
   "execution_count": 34,
   "metadata": {},
   "outputs": [
    {
     "name": "stdout",
     "output_type": "stream",
     "text": [
      "Optimal savings is 0.19837797214368819\n"
     ]
    }
   ],
   "source": [
    "# What if agents face a higher interest rate? Say 40% instead of 5%\n",
    "\n",
    "R = 1.4\n",
    "\n",
    "def u(s):\n",
    "    return -(((y-s)**(1-mu))/(1-mu)+beta*((y+R*s)**(1-gamma))/(1-gamma))\n",
    "\n",
    "sol = opt.minimize(u, 0.1)\n",
    "#print(sol) check for full output of minimize method\n",
    "\n",
    "# the optimal s is:\n",
    "print('Optimal savings is', sol.x[0])\n",
    "# then agents prefere to have positive savings."
   ]
  }
 ],
 "metadata": {
  "kernelspec": {
   "display_name": "Python 3",
   "language": "python",
   "name": "python3"
  },
  "language_info": {
   "codemirror_mode": {
    "name": "ipython",
    "version": 3
   },
   "file_extension": ".py",
   "mimetype": "text/x-python",
   "name": "python",
   "nbconvert_exporter": "python",
   "pygments_lexer": "ipython3",
   "version": "3.8.3"
  },
  "varInspector": {
   "cols": {
    "lenName": 16,
    "lenType": 16,
    "lenVar": 40
   },
   "kernels_config": {
    "python": {
     "delete_cmd_postfix": "",
     "delete_cmd_prefix": "del ",
     "library": "var_list.py",
     "varRefreshCmd": "print(var_dic_list())"
    },
    "r": {
     "delete_cmd_postfix": ") ",
     "delete_cmd_prefix": "rm(",
     "library": "var_list.r",
     "varRefreshCmd": "cat(var_dic_list()) "
    }
   },
   "types_to_exclude": [
    "module",
    "function",
    "builtin_function_or_method",
    "instance",
    "_Feature"
   ],
   "window_display": false
  }
 },
 "nbformat": 4,
 "nbformat_minor": 4
}
