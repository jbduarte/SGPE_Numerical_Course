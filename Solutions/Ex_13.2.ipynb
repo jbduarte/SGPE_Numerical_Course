{
 "cells": [
  {
   "cell_type": "code",
   "execution_count": 7,
   "metadata": {},
   "outputs": [],
   "source": [
    "from requests import get\n",
    "from bs4 import BeautifulSoup\n",
    "import pandas as pd\n",
    "\n",
    "# url of webpage\n",
    "url = 'http://www.imdb.com/search/title?release_date=2017&sort=num_votes,desc&page=1'\n",
    "\n",
    "#get html source code from url\n",
    "response = get(url)\n",
    "\n",
    "# create a parsed htlm object\n",
    "html_soup = BeautifulSoup(response.text, 'html.parser')\n",
    "\n",
    "# find htlm object that contains title\n",
    "titles_html = html_soup.find_all('h3', class_=\"lister-item-header\")\n",
    "\n",
    "#loop over all titles and save in a list\n",
    "titles = []\n",
    "for i in titles_html:\n",
    "    titles.append(i.select('a')[0].text)\n",
    "\n",
    "    \n",
    "# find htlm object that contains rating\n",
    "ratings_html = html_soup.find_all('div', class_=\"inline-block ratings-imdb-rating\")\n",
    "\n",
    "ratings = []\n",
    "for i in ratings_html:\n",
    "    ratings.append(i.select('strong')[0].text)\n",
    "ratings = np.array(ratings, dtype=float)\n",
    "\n",
    "# create a dataframe with titles and ratings\n",
    "data = {'titles': titles, 'ratings' : ratings}\n",
    "movies = pd.DataFrame(data)\n",
    "\n",
    "# save table in a latex file \n",
    "movies.head()\n",
    "movies.to_latex('imdb_top50.tex')"
   ]
  }
 ],
 "metadata": {
  "kernelspec": {
   "display_name": "Python 3",
   "language": "python",
   "name": "python3"
  },
  "language_info": {
   "codemirror_mode": {
    "name": "ipython",
    "version": 3
   },
   "file_extension": ".py",
   "mimetype": "text/x-python",
   "name": "python",
   "nbconvert_exporter": "python",
   "pygments_lexer": "ipython3",
   "version": "3.7.6"
  },
  "varInspector": {
   "cols": {
    "lenName": 16,
    "lenType": 16,
    "lenVar": 40
   },
   "kernels_config": {
    "python": {
     "delete_cmd_postfix": "",
     "delete_cmd_prefix": "del ",
     "library": "var_list.py",
     "varRefreshCmd": "print(var_dic_list())"
    },
    "r": {
     "delete_cmd_postfix": ") ",
     "delete_cmd_prefix": "rm(",
     "library": "var_list.r",
     "varRefreshCmd": "cat(var_dic_list()) "
    }
   },
   "types_to_exclude": [
    "module",
    "function",
    "builtin_function_or_method",
    "instance",
    "_Feature"
   ],
   "window_display": false
  }
 },
 "nbformat": 4,
 "nbformat_minor": 2
}
