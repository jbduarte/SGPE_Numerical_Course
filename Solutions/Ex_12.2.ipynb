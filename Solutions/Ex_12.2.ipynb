{
 "cells": [
  {
   "cell_type": "code",
   "execution_count": 10,
   "metadata": {},
   "outputs": [],
   "source": [
    "import numpy as np\n",
    "\n",
    "# lets define the bisection method function\n",
    "def bisect(fun,a,b,tol):\n",
    "    \"\"\"\n",
    "    this function uses the bisection algorithm to find a root of fun in the\n",
    "    [a,b] interval up to tol precision. it outputs the value of x such that\n",
    "    f(x) is approximately 0 up to tol precision.\n",
    "    \n",
    "    inputs : function (function), left interval (numerical), right interval (numerical), tolerance (numerical)\n",
    "    output : root (numerical)\n",
    "    \"\"\"\n",
    "\n",
    "    while (b-a) > tol:\n",
    "        if np.sign(fun((a+b)/2)) == np.sign(fun(a)):\n",
    "            a=(a+b)/2\n",
    "        elif np.sign(fun((a+b)/2)) == np.sign(fun(b)):\n",
    "            b=(a+b)/2\n",
    "\n",
    "    return((a+b)/2)"
   ]
  },
  {
   "cell_type": "code",
   "execution_count": 5,
   "metadata": {},
   "outputs": [
    {
     "data": {
      "text/plain": [
       "0.5670944159657576"
      ]
     },
     "execution_count": 5,
     "metadata": {},
     "output_type": "execute_result"
    }
   ],
   "source": [
    "# lets apply the bisection method to the excess demand function with Q = 1\n",
    "# first we need to define the excess demand function\n",
    "def excess(p):\n",
    "    e = 1-0.5*p**-0.5-0.3*p**-0.2\n",
    "    return e\n",
    "\n",
    "bisect(excess, 0.05, 5, 10**-15)"
   ]
  },
  {
   "cell_type": "code",
   "execution_count": 8,
   "metadata": {},
   "outputs": [
    {
     "data": {
      "text/plain": [
       "0.5670944159657576"
      ]
     },
     "execution_count": 8,
     "metadata": {},
     "output_type": "execute_result"
    }
   ],
   "source": [
    "# alternatively we can always the function inline directly. Useful for small functions. \n",
    "\n",
    "excess = lambda p:  1-0.5*p**-0.5-0.3*p**-0.2\n",
    "\n",
    "bisect(excess, 0.1,5,10**-15)"
   ]
  },
  {
   "cell_type": "code",
   "execution_count": 9,
   "metadata": {},
   "outputs": [
    {
     "data": {
      "text/plain": [
       "0.5670944159657576"
      ]
     },
     "execution_count": 9,
     "metadata": {},
     "output_type": "execute_result"
    }
   ],
   "source": [
    "# finally we could define the function directly in the argument\n",
    "# Note, however, that this way the function is not saved in memory\n",
    "\n",
    "bisect(lambda p:  1-0.5*p**-0.5-0.3*p**-0.2 , 0.1,5,10**-15)"
   ]
  },
  {
   "cell_type": "code",
   "execution_count": null,
   "metadata": {},
   "outputs": [],
   "source": []
  }
 ],
 "metadata": {
  "kernelspec": {
   "display_name": "Python 3",
   "language": "python",
   "name": "python3"
  },
  "language_info": {
   "codemirror_mode": {
    "name": "ipython",
    "version": 3
   },
   "file_extension": ".py",
   "mimetype": "text/x-python",
   "name": "python",
   "nbconvert_exporter": "python",
   "pygments_lexer": "ipython3",
   "version": "3.8.3"
  },
  "varInspector": {
   "cols": {
    "lenName": 16,
    "lenType": 16,
    "lenVar": 40
   },
   "kernels_config": {
    "python": {
     "delete_cmd_postfix": "",
     "delete_cmd_prefix": "del ",
     "library": "var_list.py",
     "varRefreshCmd": "print(var_dic_list())"
    },
    "r": {
     "delete_cmd_postfix": ") ",
     "delete_cmd_prefix": "rm(",
     "library": "var_list.r",
     "varRefreshCmd": "cat(var_dic_list()) "
    }
   },
   "types_to_exclude": [
    "module",
    "function",
    "builtin_function_or_method",
    "instance",
    "_Feature"
   ],
   "window_display": false
  }
 },
 "nbformat": 4,
 "nbformat_minor": 4
}
